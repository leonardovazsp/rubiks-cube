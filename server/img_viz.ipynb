{
 "cells": [
  {
   "cell_type": "code",
   "execution_count": 1,
   "metadata": {},
   "outputs": [
    {
     "ename": "ModuleNotFoundError",
     "evalue": "No module named 'cv2'",
     "output_type": "error",
     "traceback": [
      "\u001b[0;31m---------------------------------------------------------------------------\u001b[0m",
      "\u001b[0;31mModuleNotFoundError\u001b[0m                       Traceback (most recent call last)",
      "Cell \u001b[0;32mIn[1], line 4\u001b[0m\n\u001b[1;32m      2\u001b[0m \u001b[38;5;28;01mfrom\u001b[39;00m \u001b[38;5;21;01mPIL\u001b[39;00m \u001b[38;5;28;01mimport\u001b[39;00m Image\n\u001b[1;32m      3\u001b[0m \u001b[38;5;28;01mimport\u001b[39;00m \u001b[38;5;21;01mmatplotlib\u001b[39;00m\u001b[38;5;21;01m.\u001b[39;00m\u001b[38;5;21;01mpyplot\u001b[39;00m \u001b[38;5;28;01mas\u001b[39;00m \u001b[38;5;21;01mplt\u001b[39;00m\n\u001b[0;32m----> 4\u001b[0m \u001b[38;5;28;01mimport\u001b[39;00m \u001b[38;5;21;01mcv2\u001b[39;00m\n",
      "\u001b[0;31mModuleNotFoundError\u001b[0m: No module named 'cv2'"
     ]
    }
   ],
   "source": [
    "import numpy as np\n",
    "from PIL import Image\n",
    "import matplotlib.pyplot as plt\n",
    "import cv2\n",
    "from IPython.display import display\n",
    "import os\n",
    "import torch"
   ]
  },
  {
   "cell_type": "code",
   "execution_count": null,
   "metadata": {},
   "outputs": [],
   "source": [
    "def get_arrow_points(center, angle, length):\n",
    "    angle = np.deg2rad(angle)\n",
    "    x1 = int(center[0] + length/2 * np.cos(angle))\n",
    "    y1 = int(center[1] + length/2 * np.sin(angle))\n",
    "    x2 = int(center[0] - length/2 * np.cos(angle))\n",
    "    y2 = int(center[1] - length/2 * np.sin(angle))\n",
    "    return (x1, y1), (x2, y2)\n",
    "\n",
    "def draw_arrow(image, center, angle, length=50, color=(128, 0, 255), thickness=2):\n",
    "    point1, point2 = get_arrow_points(center, angle, length)\n",
    "    return cv2.arrowedLine(image, point1, point2, color, thickness)\n",
    "\n",
    "arrows = {0: lambda img, length: draw_arrow(img, (180, 250), 30, length),\n",
    "          1: lambda img, length: draw_arrow(img, (310, 200), 150, length),\n",
    "          2: lambda img, length: draw_arrow(img, (205, 205), 210, length),\n",
    "          3: lambda img, length: draw_arrow(img, (195, 350), 210, length),\n",
    "          4: lambda img, length: draw_arrow(img, (215, 170), 345, length),\n",
    "          5: lambda img, length: draw_arrow(img, (295, 165), 15, length)}\n",
    "\n",
    "def draw_arrows(image, label, scale=10):\n",
    "    image = np.array(image)\n",
    "    for i, value in enumerate(label):\n",
    "        if value != 0:\n",
    "            image = arrows[i](image, value * scale)\n",
    "    return Image.fromarray(image)"
   ]
  },
  {
   "cell_type": "code",
   "execution_count": null,
   "metadata": {},
   "outputs": [],
   "source": [
    "files = [f for f in os.listdir('pose_estimation') if f.endswith('.npy')]\n",
    "file = np.random.choice(files).split('.')[0]\n",
    "image = Image.open(f'pose_estimation/{file}_0.jpg')\n",
    "label = torch.tensor(np.load(f'pose_estimation/{file}.npy')).float()\n",
    "print(label)\n",
    "label = label * (torch.softmax(torch.abs(label), dim=0)>0.3)\n",
    "print(label)\n",
    "draw_arrows(image, label)"
   ]
  }
 ],
 "metadata": {
  "kernelspec": {
   "display_name": "azureml_py38_PT_TF",
   "language": "python",
   "name": "python3"
  },
  "language_info": {
   "codemirror_mode": {
    "name": "ipython",
    "version": 3
   },
   "file_extension": ".py",
   "mimetype": "text/x-python",
   "name": "python",
   "nbconvert_exporter": "python",
   "pygments_lexer": "ipython3",
   "version": "3.8.5"
  }
 },
 "nbformat": 4,
 "nbformat_minor": 2
}
